{
 "cells": [
  {
   "cell_type": "code",
   "execution_count": 1,
   "metadata": {},
   "outputs": [],
   "source": [
    "import pandas as pd \n",
    "import numpy as np\n",
    "import matplotlib.pyplot as plt\n",
    "import seaborn as sns"
   ]
  },
  {
   "cell_type": "code",
   "execution_count": 5,
   "metadata": {},
   "outputs": [],
   "source": [
    "train  = pd.read_csv('train_data.csv')\n",
    "test = pd.read_csv('test_data.csv')"
   ]
  },
  {
   "cell_type": "code",
   "execution_count": 3,
   "metadata": {},
   "outputs": [
    {
     "data": {
      "text/html": [
       "<div>\n",
       "<style scoped>\n",
       "    .dataframe tbody tr th:only-of-type {\n",
       "        vertical-align: middle;\n",
       "    }\n",
       "\n",
       "    .dataframe tbody tr th {\n",
       "        vertical-align: top;\n",
       "    }\n",
       "\n",
       "    .dataframe thead th {\n",
       "        text-align: right;\n",
       "    }\n",
       "</style>\n",
       "<table border=\"1\" class=\"dataframe\">\n",
       "  <thead>\n",
       "    <tr style=\"text-align: right;\">\n",
       "      <th></th>\n",
       "      <th>TITLE</th>\n",
       "      <th>GENRE</th>\n",
       "      <th>DESCRIPTION</th>\n",
       "    </tr>\n",
       "  </thead>\n",
       "  <tbody>\n",
       "    <tr>\n",
       "      <th>37624</th>\n",
       "      <td>TLC: Tables, Ladders &amp; Chairs (2012)</td>\n",
       "      <td>action</td>\n",
       "      <td>Known primarily as one of Brodus Clay's Funka...</td>\n",
       "    </tr>\n",
       "    <tr>\n",
       "      <th>32558</th>\n",
       "      <td>Mr Pinkpop (2014)</td>\n",
       "      <td>documentary</td>\n",
       "      <td>A portrait of a man with a boundless passion....</td>\n",
       "    </tr>\n",
       "    <tr>\n",
       "      <th>51003</th>\n",
       "      <td>Meet the Spartans (2008)</td>\n",
       "      <td>comedy</td>\n",
       "      <td>The heroic Spartan king Leonidas, armed with ...</td>\n",
       "    </tr>\n",
       "    <tr>\n",
       "      <th>5754</th>\n",
       "      <td>Ajab singh ki gajab kahani (2017)</td>\n",
       "      <td>drama</td>\n",
       "      <td>This is a Biopic of a handicapped Irs officer...</td>\n",
       "    </tr>\n",
       "    <tr>\n",
       "      <th>19345</th>\n",
       "      <td>Drain the Ocean (2009)</td>\n",
       "      <td>documentary</td>\n",
       "      <td>In this National Geographic special, we look ...</td>\n",
       "    </tr>\n",
       "  </tbody>\n",
       "</table>\n",
       "</div>"
      ],
      "text/plain": [
       "                                        TITLE          GENRE  \\\n",
       "37624   TLC: Tables, Ladders & Chairs (2012)         action    \n",
       "32558                      Mr Pinkpop (2014)    documentary    \n",
       "51003               Meet the Spartans (2008)         comedy    \n",
       "5754       Ajab singh ki gajab kahani (2017)          drama    \n",
       "19345                 Drain the Ocean (2009)    documentary    \n",
       "\n",
       "                                             DESCRIPTION  \n",
       "37624   Known primarily as one of Brodus Clay's Funka...  \n",
       "32558   A portrait of a man with a boundless passion....  \n",
       "51003   The heroic Spartan king Leonidas, armed with ...  \n",
       "5754    This is a Biopic of a handicapped Irs officer...  \n",
       "19345   In this National Geographic special, we look ...  "
      ]
     },
     "execution_count": 3,
     "metadata": {},
     "output_type": "execute_result"
    }
   ],
   "source": [
    "train.sample(5)"
   ]
  },
  {
   "cell_type": "code",
   "execution_count": 6,
   "metadata": {},
   "outputs": [
    {
     "data": {
      "text/html": [
       "<div>\n",
       "<style scoped>\n",
       "    .dataframe tbody tr th:only-of-type {\n",
       "        vertical-align: middle;\n",
       "    }\n",
       "\n",
       "    .dataframe tbody tr th {\n",
       "        vertical-align: top;\n",
       "    }\n",
       "\n",
       "    .dataframe thead th {\n",
       "        text-align: right;\n",
       "    }\n",
       "</style>\n",
       "<table border=\"1\" class=\"dataframe\">\n",
       "  <thead>\n",
       "    <tr style=\"text-align: right;\">\n",
       "      <th></th>\n",
       "      <th>TITLE</th>\n",
       "      <th>GENRE</th>\n",
       "      <th>DESCRIPTION</th>\n",
       "    </tr>\n",
       "  </thead>\n",
       "  <tbody>\n",
       "    <tr>\n",
       "      <th>15148</th>\n",
       "      <td>\"Spider vs Fly\" (2014)</td>\n",
       "      <td>animation</td>\n",
       "      <td>Spider vs. Fly chronicles the never-ending ba...</td>\n",
       "    </tr>\n",
       "    <tr>\n",
       "      <th>35983</th>\n",
       "      <td>Pesen za choveka (1954)</td>\n",
       "      <td>drama</td>\n",
       "      <td>At the Varna Naval College Vaptzarov recites ...</td>\n",
       "    </tr>\n",
       "    <tr>\n",
       "      <th>44679</th>\n",
       "      <td>Song of the Vampire (2001)</td>\n",
       "      <td>horror</td>\n",
       "      <td>Buried deep beneath the earth for a hundred y...</td>\n",
       "    </tr>\n",
       "    <tr>\n",
       "      <th>20206</th>\n",
       "      <td>El lenguaje de los machetes (2011)</td>\n",
       "      <td>drama</td>\n",
       "      <td>Ray and Ramona are a young couple. They hate ...</td>\n",
       "    </tr>\n",
       "    <tr>\n",
       "      <th>37295</th>\n",
       "      <td>Maechun 3 (1993)</td>\n",
       "      <td>crime</td>\n",
       "      <td>Lee Hyun, is left with her father's debts to ...</td>\n",
       "    </tr>\n",
       "  </tbody>\n",
       "</table>\n",
       "</div>"
      ],
      "text/plain": [
       "                                      TITLE        GENRE  \\\n",
       "15148               \"Spider vs Fly\" (2014)    animation    \n",
       "35983              Pesen za choveka (1954)        drama    \n",
       "44679           Song of the Vampire (2001)       horror    \n",
       "20206   El lenguaje de los machetes (2011)        drama    \n",
       "37295                     Maechun 3 (1993)        crime    \n",
       "\n",
       "                                             DESCRIPTION  \n",
       "15148   Spider vs. Fly chronicles the never-ending ba...  \n",
       "35983   At the Varna Naval College Vaptzarov recites ...  \n",
       "44679   Buried deep beneath the earth for a hundred y...  \n",
       "20206   Ray and Ramona are a young couple. They hate ...  \n",
       "37295   Lee Hyun, is left with her father's debts to ...  "
      ]
     },
     "execution_count": 6,
     "metadata": {},
     "output_type": "execute_result"
    }
   ],
   "source": [
    "test.sample(5)"
   ]
  },
  {
   "cell_type": "code",
   "execution_count": 7,
   "metadata": {},
   "outputs": [
    {
     "data": {
      "text/plain": [
       "(54214, 54200)"
      ]
     },
     "execution_count": 7,
     "metadata": {},
     "output_type": "execute_result"
    }
   ],
   "source": [
    "len(train), len(test)"
   ]
  },
  {
   "cell_type": "code",
   "execution_count": null,
   "metadata": {},
   "outputs": [],
   "source": []
  }
 ],
 "metadata": {
  "kernelspec": {
   "display_name": "Python 3",
   "language": "python",
   "name": "python3"
  },
  "language_info": {
   "codemirror_mode": {
    "name": "ipython",
    "version": 3
   },
   "file_extension": ".py",
   "mimetype": "text/x-python",
   "name": "python",
   "nbconvert_exporter": "python",
   "pygments_lexer": "ipython3",
   "version": "3.11.5"
  }
 },
 "nbformat": 4,
 "nbformat_minor": 2
}
