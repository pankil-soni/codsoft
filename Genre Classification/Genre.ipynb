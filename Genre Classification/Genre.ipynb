{
 "cells": [
  {
   "cell_type": "code",
   "execution_count": 1,
   "metadata": {},
   "outputs": [],
   "source": [
    "import pandas as pd\n",
    "import seaborn as sns\n",
    "import numpy as np \n",
    "import matplotlib.pyplot as plt"
   ]
  },
  {
   "cell_type": "code",
   "execution_count": 2,
   "metadata": {},
   "outputs": [],
   "source": [
    "# with open(\"train_data.txt\") as f:\n",
    "#     content = f.readlines()\n",
    "\n",
    "# content"
   ]
  },
  {
   "cell_type": "code",
   "execution_count": 3,
   "metadata": {},
   "outputs": [],
   "source": [
    "with open(\"train_data.txt\", encoding=\"utf8\") as f:\n",
    "    train_content = f.readlines()\n",
    "\n",
    "with open(\"test_data_solution.txt\", encoding=\"utf8\") as f:\n",
    "    content_test = f.readlines()\n",
    "\n",
    "train = pd.DataFrame([element.split(\":::\") for element in train_content], columns=[\n",
    "    'ID', 'TITLE', \"GENRE\", 'DESCRIPTION']).drop(columns=['ID'])\n",
    "\n",
    "test = pd.DataFrame([element.split(\":::\") for element in content_test], columns=[\n",
    "    'ID', 'TITLE', \"GENRE\", 'DESCRIPTION']).drop(columns=['ID'])"
   ]
  },
  {
   "cell_type": "code",
   "execution_count": 4,
   "metadata": {},
   "outputs": [
    {
     "data": {
      "text/html": [
       "<div>\n",
       "<style scoped>\n",
       "    .dataframe tbody tr th:only-of-type {\n",
       "        vertical-align: middle;\n",
       "    }\n",
       "\n",
       "    .dataframe tbody tr th {\n",
       "        vertical-align: top;\n",
       "    }\n",
       "\n",
       "    .dataframe thead th {\n",
       "        text-align: right;\n",
       "    }\n",
       "</style>\n",
       "<table border=\"1\" class=\"dataframe\">\n",
       "  <thead>\n",
       "    <tr style=\"text-align: right;\">\n",
       "      <th></th>\n",
       "      <th>TITLE</th>\n",
       "      <th>GENRE</th>\n",
       "      <th>DESCRIPTION</th>\n",
       "    </tr>\n",
       "  </thead>\n",
       "  <tbody>\n",
       "    <tr>\n",
       "      <th>19258</th>\n",
       "      <td>Ang pagbabalik ni Leon Guerrero (1980)</td>\n",
       "      <td>action</td>\n",
       "      <td>Leon Guererro is a legend, a hero in that lit...</td>\n",
       "    </tr>\n",
       "    <tr>\n",
       "      <th>20297</th>\n",
       "      <td>Ahava Tzeira (1987)</td>\n",
       "      <td>comedy</td>\n",
       "      <td>When his parents are on a holiday Johnny invi...</td>\n",
       "    </tr>\n",
       "    <tr>\n",
       "      <th>7917</th>\n",
       "      <td>Home (2009/II)</td>\n",
       "      <td>documentary</td>\n",
       "      <td>York, Pennsylvania has long been the quintess...</td>\n",
       "    </tr>\n",
       "    <tr>\n",
       "      <th>32613</th>\n",
       "      <td>Meyer aus Berlin (1919)</td>\n",
       "      <td>comedy</td>\n",
       "      <td>A bumbling, self-indulgent husband played by ...</td>\n",
       "    </tr>\n",
       "    <tr>\n",
       "      <th>52829</th>\n",
       "      <td>Beehad - The Ravine (2013)</td>\n",
       "      <td>drama</td>\n",
       "      <td>In Northern parts of India-Uttar Pradesh, Mad...</td>\n",
       "    </tr>\n",
       "  </tbody>\n",
       "</table>\n",
       "</div>"
      ],
      "text/plain": [
       "                                          TITLE          GENRE  \\\n",
       "19258   Ang pagbabalik ni Leon Guerrero (1980)         action    \n",
       "20297                      Ahava Tzeira (1987)         comedy    \n",
       "7917                            Home (2009/II)    documentary    \n",
       "32613                  Meyer aus Berlin (1919)         comedy    \n",
       "52829               Beehad - The Ravine (2013)          drama    \n",
       "\n",
       "                                             DESCRIPTION  \n",
       "19258   Leon Guererro is a legend, a hero in that lit...  \n",
       "20297   When his parents are on a holiday Johnny invi...  \n",
       "7917    York, Pennsylvania has long been the quintess...  \n",
       "32613   A bumbling, self-indulgent husband played by ...  \n",
       "52829   In Northern parts of India-Uttar Pradesh, Mad...  "
      ]
     },
     "execution_count": 4,
     "metadata": {},
     "output_type": "execute_result"
    }
   ],
   "source": [
    "train.sample(5)"
   ]
  },
  {
   "cell_type": "code",
   "execution_count": 5,
   "metadata": {},
   "outputs": [
    {
     "data": {
      "text/html": [
       "<div>\n",
       "<style scoped>\n",
       "    .dataframe tbody tr th:only-of-type {\n",
       "        vertical-align: middle;\n",
       "    }\n",
       "\n",
       "    .dataframe tbody tr th {\n",
       "        vertical-align: top;\n",
       "    }\n",
       "\n",
       "    .dataframe thead th {\n",
       "        text-align: right;\n",
       "    }\n",
       "</style>\n",
       "<table border=\"1\" class=\"dataframe\">\n",
       "  <thead>\n",
       "    <tr style=\"text-align: right;\">\n",
       "      <th></th>\n",
       "      <th>TITLE</th>\n",
       "      <th>GENRE</th>\n",
       "      <th>DESCRIPTION</th>\n",
       "    </tr>\n",
       "  </thead>\n",
       "  <tbody>\n",
       "    <tr>\n",
       "      <th>25463</th>\n",
       "      <td>\"Transplants\" (2017)</td>\n",
       "      <td>comedy</td>\n",
       "      <td>Bri and Trey are the classic \"New Yorker\" ste...</td>\n",
       "    </tr>\n",
       "    <tr>\n",
       "      <th>34366</th>\n",
       "      <td>The face next to you (2016)</td>\n",
       "      <td>horror</td>\n",
       "      <td>Xitian is haunted by the same dream for the p...</td>\n",
       "    </tr>\n",
       "    <tr>\n",
       "      <th>43037</th>\n",
       "      <td>Her Bitter Cup (1916)</td>\n",
       "      <td>drama</td>\n",
       "      <td>Rethna works hard to organize her fellow fact...</td>\n",
       "    </tr>\n",
       "    <tr>\n",
       "      <th>39599</th>\n",
       "      <td>Boyhood (2014/I)</td>\n",
       "      <td>drama</td>\n",
       "      <td>Filmed over 12 years with the same cast, 'Ric...</td>\n",
       "    </tr>\n",
       "    <tr>\n",
       "      <th>24673</th>\n",
       "      <td>Pure McCartney (2013)</td>\n",
       "      <td>music</td>\n",
       "      <td>Pure McCartney contains a recording of a one-...</td>\n",
       "    </tr>\n",
       "  </tbody>\n",
       "</table>\n",
       "</div>"
      ],
      "text/plain": [
       "                               TITLE     GENRE  \\\n",
       "25463          \"Transplants\" (2017)    comedy    \n",
       "34366   The face next to you (2016)    horror    \n",
       "43037         Her Bitter Cup (1916)     drama    \n",
       "39599              Boyhood (2014/I)     drama    \n",
       "24673         Pure McCartney (2013)     music    \n",
       "\n",
       "                                             DESCRIPTION  \n",
       "25463   Bri and Trey are the classic \"New Yorker\" ste...  \n",
       "34366   Xitian is haunted by the same dream for the p...  \n",
       "43037   Rethna works hard to organize her fellow fact...  \n",
       "39599   Filmed over 12 years with the same cast, 'Ric...  \n",
       "24673   Pure McCartney contains a recording of a one-...  "
      ]
     },
     "execution_count": 5,
     "metadata": {},
     "output_type": "execute_result"
    }
   ],
   "source": [
    "test.sample(5)"
   ]
  },
  {
   "cell_type": "code",
   "execution_count": 6,
   "metadata": {},
   "outputs": [
    {
     "data": {
      "text/plain": [
       "(TITLE          0\n",
       " GENRE          0\n",
       " DESCRIPTION    0\n",
       " dtype: int64,\n",
       " TITLE          0\n",
       " GENRE          0\n",
       " DESCRIPTION    0\n",
       " dtype: int64)"
      ]
     },
     "execution_count": 6,
     "metadata": {},
     "output_type": "execute_result"
    }
   ],
   "source": [
    "train.isna().sum(),test.isna().sum()"
   ]
  },
  {
   "cell_type": "code",
   "execution_count": 7,
   "metadata": {},
   "outputs": [
    {
     "data": {
      "text/plain": [
       "(0, 0)"
      ]
     },
     "execution_count": 7,
     "metadata": {},
     "output_type": "execute_result"
    }
   ],
   "source": [
    "train.duplicated().sum(),test.duplicated().sum()"
   ]
  },
  {
   "cell_type": "code",
   "execution_count": 8,
   "metadata": {},
   "outputs": [
    {
     "data": {
      "text/plain": [
       "GENRE\n",
       " drama           13612\n",
       " documentary     13096\n",
       " comedy           7446\n",
       " short            5072\n",
       " horror           2204\n",
       " thriller         1590\n",
       " action           1314\n",
       " western          1032\n",
       " reality-tv        883\n",
       " family            783\n",
       " adventure         775\n",
       " music             731\n",
       " romance           672\n",
       " sci-fi            646\n",
       " adult             590\n",
       " crime             505\n",
       " animation         498\n",
       " sport             431\n",
       " talk-show         391\n",
       " fantasy           322\n",
       " mystery           318\n",
       " musical           276\n",
       " biography         264\n",
       " history           243\n",
       " game-show         193\n",
       " news              181\n",
       " war               132\n",
       "Name: count, dtype: int64"
      ]
     },
     "execution_count": 8,
     "metadata": {},
     "output_type": "execute_result"
    }
   ],
   "source": [
    "test[\"GENRE\"].value_counts()"
   ]
  },
  {
   "cell_type": "code",
   "execution_count": 9,
   "metadata": {},
   "outputs": [
    {
     "data": {
      "text/plain": [
       "GENRE\n",
       " drama           13613\n",
       " documentary     13096\n",
       " comedy           7447\n",
       " short            5073\n",
       " horror           2204\n",
       " thriller         1591\n",
       " action           1315\n",
       " western          1032\n",
       " reality-tv        884\n",
       " family            784\n",
       " adventure         775\n",
       " music             731\n",
       " romance           672\n",
       " sci-fi            647\n",
       " adult             590\n",
       " crime             505\n",
       " animation         498\n",
       " sport             432\n",
       " talk-show         391\n",
       " fantasy           323\n",
       " mystery           319\n",
       " musical           277\n",
       " biography         265\n",
       " history           243\n",
       " game-show         194\n",
       " news              181\n",
       " war               132\n",
       "Name: count, dtype: int64"
      ]
     },
     "execution_count": 9,
     "metadata": {},
     "output_type": "execute_result"
    }
   ],
   "source": [
    "train[\"GENRE\"].value_counts()"
   ]
  },
  {
   "cell_type": "markdown",
   "metadata": {},
   "source": [
    "***<h1>Class imbalance</h1>***"
   ]
  },
  {
   "cell_type": "code",
   "execution_count": 10,
   "metadata": {},
   "outputs": [
    {
     "data": {
      "image/png": "[encoded data removed]",
      "text/plain": [
       "<Figure size 800x500 with 1 Axes>"
      ]
     },
     "metadata": {},
     "output_type": "display_data"
    }
   ],
   "source": [
    "fig, ax = plt.subplots(figsize=(8, 5))\n",
    "sns.barplot(x=train[\"GENRE\"].value_counts().index, y=train[\"GENRE\"].value_counts())\n",
    "plt.xticks(rotation=90)\n",
    "plt.show()"
   ]
  },
  {
   "cell_type": "code",
   "execution_count": 11,
   "metadata": {},
   "outputs": [],
   "source": [
    "#if any gerne greater than 1000 then select randomly 1000 from it\n",
    "# train = train.groupby('GENRE').apply(lambda x: x.sample(1000).reset_index(drop=True) if len(x) > 1000 else x).reset_index(drop=True)"
   ]
  },
  {
   "cell_type": "code",
   "execution_count": 12,
   "metadata": {},
   "outputs": [],
   "source": [
    "from nltk.stem import PorterStemmer\n",
    "stammer = PorterStemmer()"
   ]
  },
  {
   "cell_type": "code",
   "execution_count": 13,
   "metadata": {},
   "outputs": [],
   "source": [
    "import re\n",
    "\n",
    "\n",
    "def clean_title(text):\n",
    "\n",
    "    # applied slicing but all the rows are not in the same format\n",
    "    # text = text[:-7]\n",
    "\n",
    "    # hence applt split wich will split the string at \"(\" and take the first part which is the actual title\n",
    "    text = text.split(\"(\")[0]\n",
    "    text = text.strip()\n",
    "    # removing all the special characters and converting the text to upper case\n",
    "    # only alphabets and numbers and single quote are allowed\n",
    "    text = re.sub(r'[^\\'a-zA-Z0-9\\s]', '', text)\n",
    "    text = text.upper()\n",
    "\n",
    "    return text\n",
    "\n",
    "\n",
    "def clean_desc(text):\n",
    "\n",
    "    # removed all the special characters and converted the text to lower case\n",
    "    text = re.sub(r'[^\\'a-zA-Z0-9\\s]+', ' ', text)\n",
    "    text = re.sub(r'\\s+', ' ', text)\n",
    "    text = text.lower()\n",
    "    text = text.strip()\n",
    "\n",
    "    # stemming the words: eg - running, ran, run -> run\n",
    "    # text = ' '.join([stammer.stem(word) for word in text.split()])\n",
    "    if len(text) > 600:\n",
    "        text = text[:600]\n",
    "\n",
    "    return text"
   ]
  },
  {
   "cell_type": "code",
   "execution_count": 14,
   "metadata": {},
   "outputs": [
    {
     "data": {
      "text/plain": [
       "(54214, 54200)"
      ]
     },
     "execution_count": 14,
     "metadata": {},
     "output_type": "execute_result"
    }
   ],
   "source": [
    "len(train),len(test)"
   ]
  },
  {
   "cell_type": "code",
   "execution_count": 15,
   "metadata": {},
   "outputs": [],
   "source": [
    "train[\"TITLE\"] = train[\"TITLE\"].apply(clean_title)\n",
    "test[\"TITLE\"] = test[\"TITLE\"].apply(clean_title)\n",
    "train[\"DESCRIPTION\"] = train[\"DESCRIPTION\"].apply(clean_desc)\n",
    "test[\"DESCRIPTION\"] = test[\"DESCRIPTION\"].apply(clean_desc)"
   ]
  },
  {
   "cell_type": "code",
   "execution_count": 16,
   "metadata": {},
   "outputs": [
    {
     "data": {
      "text/html": [
       "<div>\n",
       "<style scoped>\n",
       "    .dataframe tbody tr th:only-of-type {\n",
       "        vertical-align: middle;\n",
       "    }\n",
       "\n",
       "    .dataframe tbody tr th {\n",
       "        vertical-align: top;\n",
       "    }\n",
       "\n",
       "    .dataframe thead th {\n",
       "        text-align: right;\n",
       "    }\n",
       "</style>\n",
       "<table border=\"1\" class=\"dataframe\">\n",
       "  <thead>\n",
       "    <tr style=\"text-align: right;\">\n",
       "      <th></th>\n",
       "      <th>TITLE</th>\n",
       "      <th>GENRE</th>\n",
       "      <th>DESCRIPTION</th>\n",
       "    </tr>\n",
       "  </thead>\n",
       "  <tbody>\n",
       "    <tr>\n",
       "      <th>0</th>\n",
       "      <td>OSCAR ET LA DAME ROSE</td>\n",
       "      <td>drama</td>\n",
       "      <td>listening in to a conversation between his doc...</td>\n",
       "    </tr>\n",
       "    <tr>\n",
       "      <th>1</th>\n",
       "      <td>CUPID</td>\n",
       "      <td>thriller</td>\n",
       "      <td>a brother and sister with a past incestuous re...</td>\n",
       "    </tr>\n",
       "    <tr>\n",
       "      <th>2</th>\n",
       "      <td>YOUNG WILD AND WONDERFUL</td>\n",
       "      <td>adult</td>\n",
       "      <td>as the bus empties the students for their fiel...</td>\n",
       "    </tr>\n",
       "    <tr>\n",
       "      <th>3</th>\n",
       "      <td>THE SECRET SIN</td>\n",
       "      <td>drama</td>\n",
       "      <td>to help their unemployed father make ends meet...</td>\n",
       "    </tr>\n",
       "    <tr>\n",
       "      <th>4</th>\n",
       "      <td>THE UNRECOVERED</td>\n",
       "      <td>drama</td>\n",
       "      <td>the film's title refers not only to the un rec...</td>\n",
       "    </tr>\n",
       "    <tr>\n",
       "      <th>...</th>\n",
       "      <td>...</td>\n",
       "      <td>...</td>\n",
       "      <td>...</td>\n",
       "    </tr>\n",
       "    <tr>\n",
       "      <th>54209</th>\n",
       "      <td>BONINO</td>\n",
       "      <td>comedy</td>\n",
       "      <td>this short lived nbc live sitcom centered on b...</td>\n",
       "    </tr>\n",
       "    <tr>\n",
       "      <th>54210</th>\n",
       "      <td>DEAD GIRLS DON'T CRY</td>\n",
       "      <td>horror</td>\n",
       "      <td>the next generation of exploitation the sister...</td>\n",
       "    </tr>\n",
       "    <tr>\n",
       "      <th>54211</th>\n",
       "      <td>RONALD GOEDEMONDT ZE BESTAAN ECHT</td>\n",
       "      <td>documentary</td>\n",
       "      <td>ze bestaan echt is a stand up comedy about gro...</td>\n",
       "    </tr>\n",
       "    <tr>\n",
       "      <th>54212</th>\n",
       "      <td>MAKE YOUR OWN BED</td>\n",
       "      <td>comedy</td>\n",
       "      <td>walter and vivian live in the country and have...</td>\n",
       "    </tr>\n",
       "    <tr>\n",
       "      <th>54213</th>\n",
       "      <td>NATURE'S FURY STORM OF THE CENTURY</td>\n",
       "      <td>history</td>\n",
       "      <td>on labor day weekend 1935 the most intense hur...</td>\n",
       "    </tr>\n",
       "  </tbody>\n",
       "</table>\n",
       "<p>54214 rows × 3 columns</p>\n",
       "</div>"
      ],
      "text/plain": [
       "                                    TITLE          GENRE  \\\n",
       "0                   OSCAR ET LA DAME ROSE         drama    \n",
       "1                                   CUPID      thriller    \n",
       "2                YOUNG WILD AND WONDERFUL         adult    \n",
       "3                          THE SECRET SIN         drama    \n",
       "4                         THE UNRECOVERED         drama    \n",
       "...                                   ...            ...   \n",
       "54209                              BONINO        comedy    \n",
       "54210                DEAD GIRLS DON'T CRY        horror    \n",
       "54211   RONALD GOEDEMONDT ZE BESTAAN ECHT   documentary    \n",
       "54212                   MAKE YOUR OWN BED        comedy    \n",
       "54213  NATURE'S FURY STORM OF THE CENTURY       history    \n",
       "\n",
       "                                             DESCRIPTION  \n",
       "0      listening in to a conversation between his doc...  \n",
       "1      a brother and sister with a past incestuous re...  \n",
       "2      as the bus empties the students for their fiel...  \n",
       "3      to help their unemployed father make ends meet...  \n",
       "4      the film's title refers not only to the un rec...  \n",
       "...                                                  ...  \n",
       "54209  this short lived nbc live sitcom centered on b...  \n",
       "54210  the next generation of exploitation the sister...  \n",
       "54211  ze bestaan echt is a stand up comedy about gro...  \n",
       "54212  walter and vivian live in the country and have...  \n",
       "54213  on labor day weekend 1935 the most intense hur...  \n",
       "\n",
       "[54214 rows x 3 columns]"
      ]
     },
     "execution_count": 16,
     "metadata": {},
     "output_type": "execute_result"
    }
   ],
   "source": [
    "train"
   ]
  },
  {
   "cell_type": "code",
   "execution_count": 17,
   "metadata": {},
   "outputs": [],
   "source": [
    "train[\"input\"] = train[\"TITLE\"] + \" \" + train[\"DESCRIPTION\"]\n",
    "test[\"input\"] = test[\"TITLE\"] + \" \" + test[\"DESCRIPTION\"]"
   ]
  },
  {
   "cell_type": "code",
   "execution_count": 18,
   "metadata": {},
   "outputs": [
    {
     "data": {
      "text/html": [
       "<div>\n",
       "<style scoped>\n",
       "    .dataframe tbody tr th:only-of-type {\n",
       "        vertical-align: middle;\n",
       "    }\n",
       "\n",
       "    .dataframe tbody tr th {\n",
       "        vertical-align: top;\n",
       "    }\n",
       "\n",
       "    .dataframe thead th {\n",
       "        text-align: right;\n",
       "    }\n",
       "</style>\n",
       "<table border=\"1\" class=\"dataframe\">\n",
       "  <thead>\n",
       "    <tr style=\"text-align: right;\">\n",
       "      <th></th>\n",
       "      <th>TITLE</th>\n",
       "      <th>GENRE</th>\n",
       "      <th>DESCRIPTION</th>\n",
       "      <th>input</th>\n",
       "    </tr>\n",
       "  </thead>\n",
       "  <tbody>\n",
       "    <tr>\n",
       "      <th>0</th>\n",
       "      <td>OSCAR ET LA DAME ROSE</td>\n",
       "      <td>drama</td>\n",
       "      <td>listening in to a conversation between his doc...</td>\n",
       "      <td>OSCAR ET LA DAME ROSE listening in to a conver...</td>\n",
       "    </tr>\n",
       "    <tr>\n",
       "      <th>1</th>\n",
       "      <td>CUPID</td>\n",
       "      <td>thriller</td>\n",
       "      <td>a brother and sister with a past incestuous re...</td>\n",
       "      <td>CUPID a brother and sister with a past incestu...</td>\n",
       "    </tr>\n",
       "    <tr>\n",
       "      <th>2</th>\n",
       "      <td>YOUNG WILD AND WONDERFUL</td>\n",
       "      <td>adult</td>\n",
       "      <td>as the bus empties the students for their fiel...</td>\n",
       "      <td>YOUNG WILD AND WONDERFUL as the bus empties th...</td>\n",
       "    </tr>\n",
       "    <tr>\n",
       "      <th>3</th>\n",
       "      <td>THE SECRET SIN</td>\n",
       "      <td>drama</td>\n",
       "      <td>to help their unemployed father make ends meet...</td>\n",
       "      <td>THE SECRET SIN to help their unemployed father...</td>\n",
       "    </tr>\n",
       "    <tr>\n",
       "      <th>4</th>\n",
       "      <td>THE UNRECOVERED</td>\n",
       "      <td>drama</td>\n",
       "      <td>the film's title refers not only to the un rec...</td>\n",
       "      <td>THE UNRECOVERED the film's title refers not on...</td>\n",
       "    </tr>\n",
       "    <tr>\n",
       "      <th>...</th>\n",
       "      <td>...</td>\n",
       "      <td>...</td>\n",
       "      <td>...</td>\n",
       "      <td>...</td>\n",
       "    </tr>\n",
       "    <tr>\n",
       "      <th>54209</th>\n",
       "      <td>BONINO</td>\n",
       "      <td>comedy</td>\n",
       "      <td>this short lived nbc live sitcom centered on b...</td>\n",
       "      <td>BONINO this short lived nbc live sitcom center...</td>\n",
       "    </tr>\n",
       "    <tr>\n",
       "      <th>54210</th>\n",
       "      <td>DEAD GIRLS DON'T CRY</td>\n",
       "      <td>horror</td>\n",
       "      <td>the next generation of exploitation the sister...</td>\n",
       "      <td>DEAD GIRLS DON'T CRY the next generation of ex...</td>\n",
       "    </tr>\n",
       "    <tr>\n",
       "      <th>54211</th>\n",
       "      <td>RONALD GOEDEMONDT ZE BESTAAN ECHT</td>\n",
       "      <td>documentary</td>\n",
       "      <td>ze bestaan echt is a stand up comedy about gro...</td>\n",
       "      <td>RONALD GOEDEMONDT ZE BESTAAN ECHT ze bestaan e...</td>\n",
       "    </tr>\n",
       "    <tr>\n",
       "      <th>54212</th>\n",
       "      <td>MAKE YOUR OWN BED</td>\n",
       "      <td>comedy</td>\n",
       "      <td>walter and vivian live in the country and have...</td>\n",
       "      <td>MAKE YOUR OWN BED walter and vivian live in th...</td>\n",
       "    </tr>\n",
       "    <tr>\n",
       "      <th>54213</th>\n",
       "      <td>NATURE'S FURY STORM OF THE CENTURY</td>\n",
       "      <td>history</td>\n",
       "      <td>on labor day weekend 1935 the most intense hur...</td>\n",
       "      <td>NATURE'S FURY STORM OF THE CENTURY on labor da...</td>\n",
       "    </tr>\n",
       "  </tbody>\n",
       "</table>\n",
       "<p>54214 rows × 4 columns</p>\n",
       "</div>"
      ],
      "text/plain": [
       "                                    TITLE          GENRE  \\\n",
       "0                   OSCAR ET LA DAME ROSE         drama    \n",
       "1                                   CUPID      thriller    \n",
       "2                YOUNG WILD AND WONDERFUL         adult    \n",
       "3                          THE SECRET SIN         drama    \n",
       "4                         THE UNRECOVERED         drama    \n",
       "...                                   ...            ...   \n",
       "54209                              BONINO        comedy    \n",
       "54210                DEAD GIRLS DON'T CRY        horror    \n",
       "54211   RONALD GOEDEMONDT ZE BESTAAN ECHT   documentary    \n",
       "54212                   MAKE YOUR OWN BED        comedy    \n",
       "54213  NATURE'S FURY STORM OF THE CENTURY       history    \n",
       "\n",
       "                                             DESCRIPTION  \\\n",
       "0      listening in to a conversation between his doc...   \n",
       "1      a brother and sister with a past incestuous re...   \n",
       "2      as the bus empties the students for their fiel...   \n",
       "3      to help their unemployed father make ends meet...   \n",
       "4      the film's title refers not only to the un rec...   \n",
       "...                                                  ...   \n",
       "54209  this short lived nbc live sitcom centered on b...   \n",
       "54210  the next generation of exploitation the sister...   \n",
       "54211  ze bestaan echt is a stand up comedy about gro...   \n",
       "54212  walter and vivian live in the country and have...   \n",
       "54213  on labor day weekend 1935 the most intense hur...   \n",
       "\n",
       "                                                   input  \n",
       "0      OSCAR ET LA DAME ROSE listening in to a conver...  \n",
       "1      CUPID a brother and sister with a past incestu...  \n",
       "2      YOUNG WILD AND WONDERFUL as the bus empties th...  \n",
       "3      THE SECRET SIN to help their unemployed father...  \n",
       "4      THE UNRECOVERED the film's title refers not on...  \n",
       "...                                                  ...  \n",
       "54209  BONINO this short lived nbc live sitcom center...  \n",
       "54210  DEAD GIRLS DON'T CRY the next generation of ex...  \n",
       "54211  RONALD GOEDEMONDT ZE BESTAAN ECHT ze bestaan e...  \n",
       "54212  MAKE YOUR OWN BED walter and vivian live in th...  \n",
       "54213  NATURE'S FURY STORM OF THE CENTURY on labor da...  \n",
       "\n",
       "[54214 rows x 4 columns]"
      ]
     },
     "execution_count": 18,
     "metadata": {},
     "output_type": "execute_result"
    }
   ],
   "source": [
    "train"
   ]
  },
  {
   "cell_type": "code",
   "execution_count": 19,
   "metadata": {},
   "outputs": [],
   "source": [
    "from sklearn.preprocessing import LabelEncoder\n",
    "\n",
    "le = LabelEncoder()\n",
    "train[\"target\"] = le.fit_transform(train[\"GENRE\"])\n",
    "test[\"target\"] = le.transform(test[\"GENRE\"])"
   ]
  },
  {
   "cell_type": "code",
   "execution_count": 20,
   "metadata": {},
   "outputs": [
    {
     "data": {
      "text/html": [
       "<div>\n",
       "<style scoped>\n",
       "    .dataframe tbody tr th:only-of-type {\n",
       "        vertical-align: middle;\n",
       "    }\n",
       "\n",
       "    .dataframe tbody tr th {\n",
       "        vertical-align: top;\n",
       "    }\n",
       "\n",
       "    .dataframe thead th {\n",
       "        text-align: right;\n",
       "    }\n",
       "</style>\n",
       "<table border=\"1\" class=\"dataframe\">\n",
       "  <thead>\n",
       "    <tr style=\"text-align: right;\">\n",
       "      <th></th>\n",
       "      <th>TITLE</th>\n",
       "      <th>GENRE</th>\n",
       "      <th>DESCRIPTION</th>\n",
       "      <th>input</th>\n",
       "      <th>target</th>\n",
       "    </tr>\n",
       "  </thead>\n",
       "  <tbody>\n",
       "    <tr>\n",
       "      <th>0</th>\n",
       "      <td>OSCAR ET LA DAME ROSE</td>\n",
       "      <td>drama</td>\n",
       "      <td>listening in to a conversation between his doc...</td>\n",
       "      <td>OSCAR ET LA DAME ROSE listening in to a conver...</td>\n",
       "      <td>8</td>\n",
       "    </tr>\n",
       "    <tr>\n",
       "      <th>1</th>\n",
       "      <td>CUPID</td>\n",
       "      <td>thriller</td>\n",
       "      <td>a brother and sister with a past incestuous re...</td>\n",
       "      <td>CUPID a brother and sister with a past incestu...</td>\n",
       "      <td>24</td>\n",
       "    </tr>\n",
       "    <tr>\n",
       "      <th>2</th>\n",
       "      <td>YOUNG WILD AND WONDERFUL</td>\n",
       "      <td>adult</td>\n",
       "      <td>as the bus empties the students for their fiel...</td>\n",
       "      <td>YOUNG WILD AND WONDERFUL as the bus empties th...</td>\n",
       "      <td>1</td>\n",
       "    </tr>\n",
       "    <tr>\n",
       "      <th>3</th>\n",
       "      <td>THE SECRET SIN</td>\n",
       "      <td>drama</td>\n",
       "      <td>to help their unemployed father make ends meet...</td>\n",
       "      <td>THE SECRET SIN to help their unemployed father...</td>\n",
       "      <td>8</td>\n",
       "    </tr>\n",
       "    <tr>\n",
       "      <th>4</th>\n",
       "      <td>THE UNRECOVERED</td>\n",
       "      <td>drama</td>\n",
       "      <td>the film's title refers not only to the un rec...</td>\n",
       "      <td>THE UNRECOVERED the film's title refers not on...</td>\n",
       "      <td>8</td>\n",
       "    </tr>\n",
       "    <tr>\n",
       "      <th>...</th>\n",
       "      <td>...</td>\n",
       "      <td>...</td>\n",
       "      <td>...</td>\n",
       "      <td>...</td>\n",
       "      <td>...</td>\n",
       "    </tr>\n",
       "    <tr>\n",
       "      <th>54209</th>\n",
       "      <td>BONINO</td>\n",
       "      <td>comedy</td>\n",
       "      <td>this short lived nbc live sitcom centered on b...</td>\n",
       "      <td>BONINO this short lived nbc live sitcom center...</td>\n",
       "      <td>5</td>\n",
       "    </tr>\n",
       "    <tr>\n",
       "      <th>54210</th>\n",
       "      <td>DEAD GIRLS DON'T CRY</td>\n",
       "      <td>horror</td>\n",
       "      <td>the next generation of exploitation the sister...</td>\n",
       "      <td>DEAD GIRLS DON'T CRY the next generation of ex...</td>\n",
       "      <td>13</td>\n",
       "    </tr>\n",
       "    <tr>\n",
       "      <th>54211</th>\n",
       "      <td>RONALD GOEDEMONDT ZE BESTAAN ECHT</td>\n",
       "      <td>documentary</td>\n",
       "      <td>ze bestaan echt is a stand up comedy about gro...</td>\n",
       "      <td>RONALD GOEDEMONDT ZE BESTAAN ECHT ze bestaan e...</td>\n",
       "      <td>7</td>\n",
       "    </tr>\n",
       "    <tr>\n",
       "      <th>54212</th>\n",
       "      <td>MAKE YOUR OWN BED</td>\n",
       "      <td>comedy</td>\n",
       "      <td>walter and vivian live in the country and have...</td>\n",
       "      <td>MAKE YOUR OWN BED walter and vivian live in th...</td>\n",
       "      <td>5</td>\n",
       "    </tr>\n",
       "    <tr>\n",
       "      <th>54213</th>\n",
       "      <td>NATURE'S FURY STORM OF THE CENTURY</td>\n",
       "      <td>history</td>\n",
       "      <td>on labor day weekend 1935 the most intense hur...</td>\n",
       "      <td>NATURE'S FURY STORM OF THE CENTURY on labor da...</td>\n",
       "      <td>12</td>\n",
       "    </tr>\n",
       "  </tbody>\n",
       "</table>\n",
       "<p>54214 rows × 5 columns</p>\n",
       "</div>"
      ],
      "text/plain": [
       "                                    TITLE          GENRE  \\\n",
       "0                   OSCAR ET LA DAME ROSE         drama    \n",
       "1                                   CUPID      thriller    \n",
       "2                YOUNG WILD AND WONDERFUL         adult    \n",
       "3                          THE SECRET SIN         drama    \n",
       "4                         THE UNRECOVERED         drama    \n",
       "...                                   ...            ...   \n",
       "54209                              BONINO        comedy    \n",
       "54210                DEAD GIRLS DON'T CRY        horror    \n",
       "54211   RONALD GOEDEMONDT ZE BESTAAN ECHT   documentary    \n",
       "54212                   MAKE YOUR OWN BED        comedy    \n",
       "54213  NATURE'S FURY STORM OF THE CENTURY       history    \n",
       "\n",
       "                                             DESCRIPTION  \\\n",
       "0      listening in to a conversation between his doc...   \n",
       "1      a brother and sister with a past incestuous re...   \n",
       "2      as the bus empties the students for their fiel...   \n",
       "3      to help their unemployed father make ends meet...   \n",
       "4      the film's title refers not only to the un rec...   \n",
       "...                                                  ...   \n",
       "54209  this short lived nbc live sitcom centered on b...   \n",
       "54210  the next generation of exploitation the sister...   \n",
       "54211  ze bestaan echt is a stand up comedy about gro...   \n",
       "54212  walter and vivian live in the country and have...   \n",
       "54213  on labor day weekend 1935 the most intense hur...   \n",
       "\n",
       "                                                   input  target  \n",
       "0      OSCAR ET LA DAME ROSE listening in to a conver...       8  \n",
       "1      CUPID a brother and sister with a past incestu...      24  \n",
       "2      YOUNG WILD AND WONDERFUL as the bus empties th...       1  \n",
       "3      THE SECRET SIN to help their unemployed father...       8  \n",
       "4      THE UNRECOVERED the film's title refers not on...       8  \n",
       "...                                                  ...     ...  \n",
       "54209  BONINO this short lived nbc live sitcom center...       5  \n",
       "54210  DEAD GIRLS DON'T CRY the next generation of ex...      13  \n",
       "54211  RONALD GOEDEMONDT ZE BESTAAN ECHT ze bestaan e...       7  \n",
       "54212  MAKE YOUR OWN BED walter and vivian live in th...       5  \n",
       "54213  NATURE'S FURY STORM OF THE CENTURY on labor da...      12  \n",
       "\n",
       "[54214 rows x 5 columns]"
      ]
     },
     "execution_count": 20,
     "metadata": {},
     "output_type": "execute_result"
    }
   ],
   "source": [
    "train"
   ]
  },
  {
   "cell_type": "code",
   "execution_count": 29,
   "metadata": {},
   "outputs": [],
   "source": [
    "from sklearn.feature_extraction.text import TfidfVectorizer\n",
    "\n",
    "tfidf = TfidfVectorizer(max_features=10000, ngram_range=(2, 3))\n",
    "train_features = tfidf.fit_transform(train[\"input\"])\n",
    "test_features = tfidf.transform(test[\"input\"])"
   ]
  },
  {
   "cell_type": "code",
   "execution_count": 30,
   "metadata": {},
   "outputs": [
    {
     "data": {
      "text/plain": [
       "((54214, 10000), (54200, 10000))"
      ]
     },
     "execution_count": 30,
     "metadata": {},
     "output_type": "execute_result"
    }
   ],
   "source": [
    "train_features.shape, test_features.shape"
   ]
  },
  {
   "cell_type": "code",
   "execution_count": 31,
   "metadata": {},
   "outputs": [
    {
     "name": "stderr",
     "output_type": "stream",
     "text": [
      "c:\\Users\\Pankil\\AppData\\Local\\Programs\\Python\\Python311\\Lib\\site-packages\\sklearn\\linear_model\\_logistic.py:460: ConvergenceWarning: lbfgs failed to converge (status=1):\n",
      "STOP: TOTAL NO. of ITERATIONS REACHED LIMIT.\n",
      "\n",
      "Increase the number of iterations (max_iter) or scale the data as shown in:\n",
      "    https://scikit-learn.org/stable/modules/preprocessing.html\n",
      "Please also refer to the documentation for alternative solver options:\n",
      "    https://scikit-learn.org/stable/modules/linear_model.html#logistic-regression\n",
      "  n_iter_i = _check_optimize_result(\n"
     ]
    },
    {
     "data": {
      "text/html": [
       "<style>#sk-container-id-3 {color: black;}#sk-container-id-3 pre{padding: 0;}#sk-container-id-3 div.sk-toggleable {background-color: white;}#sk-container-id-3 label.sk-toggleable__label {cursor: pointer;display: block;width: 100%;margin-bottom: 0;padding: 0.3em;box-sizing: border-box;text-align: center;}#sk-container-id-3 label.sk-toggleable__label-arrow:before {content: \"▸\";float: left;margin-right: 0.25em;color: #696969;}#sk-container-id-3 label.sk-toggleable__label-arrow:hover:before {color: black;}#sk-container-id-3 div.sk-estimator:hover label.sk-toggleable__label-arrow:before {color: black;}#sk-container-id-3 div.sk-toggleable__content {max-height: 0;max-width: 0;overflow: hidden;text-align: left;background-color: #f0f8ff;}#sk-container-id-3 div.sk-toggleable__content pre {margin: 0.2em;color: black;border-radius: 0.25em;background-color: #f0f8ff;}#sk-container-id-3 input.sk-toggleable__control:checked~div.sk-toggleable__content {max-height: 200px;max-width: 100%;overflow: auto;}#sk-container-id-3 input.sk-toggleable__control:checked~label.sk-toggleable__label-arrow:before {content: \"▾\";}#sk-container-id-3 div.sk-estimator input.sk-toggleable__control:checked~label.sk-toggleable__label {background-color: #d4ebff;}#sk-container-id-3 div.sk-label input.sk-toggleable__control:checked~label.sk-toggleable__label {background-color: #d4ebff;}#sk-container-id-3 input.sk-hidden--visually {border: 0;clip: rect(1px 1px 1px 1px);clip: rect(1px, 1px, 1px, 1px);height: 1px;margin: -1px;overflow: hidden;padding: 0;position: absolute;width: 1px;}#sk-container-id-3 div.sk-estimator {font-family: monospace;background-color: #f0f8ff;border: 1px dotted black;border-radius: 0.25em;box-sizing: border-box;margin-bottom: 0.5em;}#sk-container-id-3 div.sk-estimator:hover {background-color: #d4ebff;}#sk-container-id-3 div.sk-parallel-item::after {content: \"\";width: 100%;border-bottom: 1px solid gray;flex-grow: 1;}#sk-container-id-3 div.sk-label:hover label.sk-toggleable__label {background-color: #d4ebff;}#sk-container-id-3 div.sk-serial::before {content: \"\";position: absolute;border-left: 1px solid gray;box-sizing: border-box;top: 0;bottom: 0;left: 50%;z-index: 0;}#sk-container-id-3 div.sk-serial {display: flex;flex-direction: column;align-items: center;background-color: white;padding-right: 0.2em;padding-left: 0.2em;position: relative;}#sk-container-id-3 div.sk-item {position: relative;z-index: 1;}#sk-container-id-3 div.sk-parallel {display: flex;align-items: stretch;justify-content: center;background-color: white;position: relative;}#sk-container-id-3 div.sk-item::before, #sk-container-id-3 div.sk-parallel-item::before {content: \"\";position: absolute;border-left: 1px solid gray;box-sizing: border-box;top: 0;bottom: 0;left: 50%;z-index: -1;}#sk-container-id-3 div.sk-parallel-item {display: flex;flex-direction: column;z-index: 1;position: relative;background-color: white;}#sk-container-id-3 div.sk-parallel-item:first-child::after {align-self: flex-end;width: 50%;}#sk-container-id-3 div.sk-parallel-item:last-child::after {align-self: flex-start;width: 50%;}#sk-container-id-3 div.sk-parallel-item:only-child::after {width: 0;}#sk-container-id-3 div.sk-dashed-wrapped {border: 1px dashed gray;margin: 0 0.4em 0.5em 0.4em;box-sizing: border-box;padding-bottom: 0.4em;background-color: white;}#sk-container-id-3 div.sk-label label {font-family: monospace;font-weight: bold;display: inline-block;line-height: 1.2em;}#sk-container-id-3 div.sk-label-container {text-align: center;}#sk-container-id-3 div.sk-container {/* jupyter's `normalize.less` sets `[hidden] { display: none; }` but bootstrap.min.css set `[hidden] { display: none !important; }` so we also need the `!important` here to be able to override the default hidden behavior on the sphinx rendered scikit-learn.org. See: https://github.com/scikit-learn/scikit-learn/issues/21755 */display: inline-block !important;position: relative;}#sk-container-id-3 div.sk-text-repr-fallback {display: none;}</style><div id=\"sk-container-id-3\" class=\"sk-top-container\"><div class=\"sk-text-repr-fallback\"><pre>LogisticRegression()</pre><b>In a Jupyter environment, please rerun this cell to show the HTML representation or trust the notebook. <br />On GitHub, the HTML representation is unable to render, please try loading this page with nbviewer.org.</b></div><div class=\"sk-container\" hidden><div class=\"sk-item\"><div class=\"sk-estimator sk-toggleable\"><input class=\"sk-toggleable__control sk-hidden--visually\" id=\"sk-estimator-id-3\" type=\"checkbox\" checked><label for=\"sk-estimator-id-3\" class=\"sk-toggleable__label sk-toggleable__label-arrow\">LogisticRegression</label><div class=\"sk-toggleable__content\"><pre>LogisticRegression()</pre></div></div></div></div></div>"
      ],
      "text/plain": [
       "LogisticRegression()"
      ]
     },
     "execution_count": 31,
     "metadata": {},
     "output_type": "execute_result"
    }
   ],
   "source": [
    "from sklearn.linear_model import LogisticRegression\n",
    "\n",
    "model = LogisticRegression()\n",
    "model.fit(train_features, train[\"target\"])"
   ]
  },
  {
   "cell_type": "code",
   "execution_count": 39,
   "metadata": {},
   "outputs": [
    {
     "data": {
      "text/html": [
       "<style>#sk-container-id-6 {color: black;}#sk-container-id-6 pre{padding: 0;}#sk-container-id-6 div.sk-toggleable {background-color: white;}#sk-container-id-6 label.sk-toggleable__label {cursor: pointer;display: block;width: 100%;margin-bottom: 0;padding: 0.3em;box-sizing: border-box;text-align: center;}#sk-container-id-6 label.sk-toggleable__label-arrow:before {content: \"▸\";float: left;margin-right: 0.25em;color: #696969;}#sk-container-id-6 label.sk-toggleable__label-arrow:hover:before {color: black;}#sk-container-id-6 div.sk-estimator:hover label.sk-toggleable__label-arrow:before {color: black;}#sk-container-id-6 div.sk-toggleable__content {max-height: 0;max-width: 0;overflow: hidden;text-align: left;background-color: #f0f8ff;}#sk-container-id-6 div.sk-toggleable__content pre {margin: 0.2em;color: black;border-radius: 0.25em;background-color: #f0f8ff;}#sk-container-id-6 input.sk-toggleable__control:checked~div.sk-toggleable__content {max-height: 200px;max-width: 100%;overflow: auto;}#sk-container-id-6 input.sk-toggleable__control:checked~label.sk-toggleable__label-arrow:before {content: \"▾\";}#sk-container-id-6 div.sk-estimator input.sk-toggleable__control:checked~label.sk-toggleable__label {background-color: #d4ebff;}#sk-container-id-6 div.sk-label input.sk-toggleable__control:checked~label.sk-toggleable__label {background-color: #d4ebff;}#sk-container-id-6 input.sk-hidden--visually {border: 0;clip: rect(1px 1px 1px 1px);clip: rect(1px, 1px, 1px, 1px);height: 1px;margin: -1px;overflow: hidden;padding: 0;position: absolute;width: 1px;}#sk-container-id-6 div.sk-estimator {font-family: monospace;background-color: #f0f8ff;border: 1px dotted black;border-radius: 0.25em;box-sizing: border-box;margin-bottom: 0.5em;}#sk-container-id-6 div.sk-estimator:hover {background-color: #d4ebff;}#sk-container-id-6 div.sk-parallel-item::after {content: \"\";width: 100%;border-bottom: 1px solid gray;flex-grow: 1;}#sk-container-id-6 div.sk-label:hover label.sk-toggleable__label {background-color: #d4ebff;}#sk-container-id-6 div.sk-serial::before {content: \"\";position: absolute;border-left: 1px solid gray;box-sizing: border-box;top: 0;bottom: 0;left: 50%;z-index: 0;}#sk-container-id-6 div.sk-serial {display: flex;flex-direction: column;align-items: center;background-color: white;padding-right: 0.2em;padding-left: 0.2em;position: relative;}#sk-container-id-6 div.sk-item {position: relative;z-index: 1;}#sk-container-id-6 div.sk-parallel {display: flex;align-items: stretch;justify-content: center;background-color: white;position: relative;}#sk-container-id-6 div.sk-item::before, #sk-container-id-6 div.sk-parallel-item::before {content: \"\";position: absolute;border-left: 1px solid gray;box-sizing: border-box;top: 0;bottom: 0;left: 50%;z-index: -1;}#sk-container-id-6 div.sk-parallel-item {display: flex;flex-direction: column;z-index: 1;position: relative;background-color: white;}#sk-container-id-6 div.sk-parallel-item:first-child::after {align-self: flex-end;width: 50%;}#sk-container-id-6 div.sk-parallel-item:last-child::after {align-self: flex-start;width: 50%;}#sk-container-id-6 div.sk-parallel-item:only-child::after {width: 0;}#sk-container-id-6 div.sk-dashed-wrapped {border: 1px dashed gray;margin: 0 0.4em 0.5em 0.4em;box-sizing: border-box;padding-bottom: 0.4em;background-color: white;}#sk-container-id-6 div.sk-label label {font-family: monospace;font-weight: bold;display: inline-block;line-height: 1.2em;}#sk-container-id-6 div.sk-label-container {text-align: center;}#sk-container-id-6 div.sk-container {/* jupyter's `normalize.less` sets `[hidden] { display: none; }` but bootstrap.min.css set `[hidden] { display: none !important; }` so we also need the `!important` here to be able to override the default hidden behavior on the sphinx rendered scikit-learn.org. See: https://github.com/scikit-learn/scikit-learn/issues/21755 */display: inline-block !important;position: relative;}#sk-container-id-6 div.sk-text-repr-fallback {display: none;}</style><div id=\"sk-container-id-6\" class=\"sk-top-container\"><div class=\"sk-text-repr-fallback\"><pre>BernoulliNB()</pre><b>In a Jupyter environment, please rerun this cell to show the HTML representation or trust the notebook. <br />On GitHub, the HTML representation is unable to render, please try loading this page with nbviewer.org.</b></div><div class=\"sk-container\" hidden><div class=\"sk-item\"><div class=\"sk-estimator sk-toggleable\"><input class=\"sk-toggleable__control sk-hidden--visually\" id=\"sk-estimator-id-6\" type=\"checkbox\" checked><label for=\"sk-estimator-id-6\" class=\"sk-toggleable__label sk-toggleable__label-arrow\">BernoulliNB</label><div class=\"sk-toggleable__content\"><pre>BernoulliNB()</pre></div></div></div></div></div>"
      ],
      "text/plain": [
       "BernoulliNB()"
      ]
     },
     "execution_count": 39,
     "metadata": {},
     "output_type": "execute_result"
    }
   ],
   "source": [
    "from sklearn.naive_bayes import MultinomialNB, BernoulliNB, GaussianNB\n",
    "\n",
    "mnb = MultinomialNB()\n",
    "bnb = BernoulliNB()\n",
    "gnb = GaussianNB()\n",
    "\n",
    "# mnb.fit(train_features, train[\"target\"])\n",
    "# gnb.fit(train_features.toarray(), train[\"target\"])\n",
    "bnb.fit(train_features, train[\"target\"])"
   ]
  },
  {
   "cell_type": "code",
   "execution_count": 38,
   "metadata": {},
   "outputs": [
    {
     "data": {
      "text/plain": [
       "0.29267527675276755"
      ]
     },
     "execution_count": 38,
     "metadata": {},
     "output_type": "execute_result"
    }
   ],
   "source": [
    "gnb.score(test_features.toarray(), le.transform(test[\"GENRE\"]))"
   ]
  },
  {
   "cell_type": "code",
   "execution_count": 40,
   "metadata": {},
   "outputs": [
    {
     "data": {
      "text/plain": [
       "0.4634317343173432"
      ]
     },
     "execution_count": 40,
     "metadata": {},
     "output_type": "execute_result"
    }
   ],
   "source": [
    "bnb.score(test_features, le.transform(test[\"GENRE\"]))"
   ]
  },
  {
   "cell_type": "code",
   "execution_count": null,
   "metadata": {},
   "outputs": [],
   "source": [
    "model.score(test_features, le.transform(test[\"GENRE\"])),mnb.score(test_features, le.transform(test[\"GENRE\"]))"
   ]
  },
  {
   "cell_type": "markdown",
   "metadata": {},
   "source": [
    "<strong><h4>- Model Scores</h4></strong>\n",
    "<strong><h4>Gaussian Naive bias score: <span style=\"color: rgb(235, 221, 68);font-weight: bolder;\">0.3774785575947616</span></h4></strong>\n",
    "<strong><h4>Multinomial Naive bias score: <span style=\"color: rgb(235, 221, 68);font-weight: bolder;\">0.4838144424974638</span></h4></strong>\n",
    "<strong><h4>Logistic Regression score: <span style=\"color: rgb(235, 221, 68);font-weight: bolder;\">0.5859079590519229</span></h4></strong><strong><h4>Random Forest Classifier score: <span style=\"color: rgb(235, 221, 68);font-weight: bolder;\">0.49580374435119434</span></h4></strong>\n"
   ]
  },
  {
   "cell_type": "code",
   "execution_count": 25,
   "metadata": {},
   "outputs": [],
   "source": [
    "#import csv ignoring the errors \n",
    "\n",
    "# train.to_csv(\"train_data.csv\", index=False, encoding='utf-8', errors='ignore')"
   ]
  },
  {
   "cell_type": "code",
   "execution_count": null,
   "metadata": {},
   "outputs": [],
   "source": []
  }
 ],
 "metadata": {
  "kernelspec": {
   "display_name": "Python 3",
   "language": "python",
   "name": "python3"
  },
  "language_info": {
   "codemirror_mode": {
    "name": "ipython",
    "version": 3
   },
   "file_extension": ".py",
   "mimetype": "text/x-python",
   "name": "python",
   "nbconvert_exporter": "python",
   "pygments_lexer": "ipython3",
   "version": "3.11.5"
  }
 },
 "nbformat": 4,
 "nbformat_minor": 2
}
